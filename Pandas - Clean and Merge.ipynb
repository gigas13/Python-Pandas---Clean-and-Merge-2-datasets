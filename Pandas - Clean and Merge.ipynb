{
 "cells": [
  {
   "cell_type": "markdown",
   "id": "eedc0e42",
   "metadata": {},
   "source": [
    "# Import 2 DataSets, clean and merge"
   ]
  },
  {
   "cell_type": "code",
   "execution_count": 29,
   "id": "91201696",
   "metadata": {},
   "outputs": [],
   "source": [
    "import pandas as pd"
   ]
  },
  {
   "cell_type": "markdown",
   "id": "3915e196",
   "metadata": {},
   "source": [
    "## Import the main dataset (EUMA)"
   ]
  },
  {
   "cell_type": "code",
   "execution_count": 30,
   "id": "651da39c",
   "metadata": {},
   "outputs": [],
   "source": [
    "# import the main dataset\n",
    "euma = pd.read_excel('.\\EUMA.xlsx')"
   ]
  },
  {
   "cell_type": "code",
   "execution_count": 31,
   "id": "e81a3edc",
   "metadata": {},
   "outputs": [
    {
     "data": {
      "text/html": [
       "<div>\n",
       "<style scoped>\n",
       "    .dataframe tbody tr th:only-of-type {\n",
       "        vertical-align: middle;\n",
       "    }\n",
       "\n",
       "    .dataframe tbody tr th {\n",
       "        vertical-align: top;\n",
       "    }\n",
       "\n",
       "    .dataframe thead th {\n",
       "        text-align: right;\n",
       "    }\n",
       "</style>\n",
       "<table border=\"1\" class=\"dataframe\">\n",
       "  <thead>\n",
       "    <tr style=\"text-align: right;\">\n",
       "      <th></th>\n",
       "      <th>Entity</th>\n",
       "      <th>Credit Controller</th>\n",
       "      <th>Mc</th>\n",
       "      <th>Invoice Date</th>\n",
       "      <th>Invoice Type</th>\n",
       "      <th>Euro SUM</th>\n",
       "      <th>Curr</th>\n",
       "      <th>Due Date</th>\n",
       "      <th>Billing Account Number</th>\n",
       "    </tr>\n",
       "  </thead>\n",
       "  <tbody>\n",
       "    <tr>\n",
       "      <th>0</th>\n",
       "      <td>GUT</td>\n",
       "      <td>Ritgi Dabey</td>\n",
       "      <td>SSM62</td>\n",
       "      <td>13-AUG-21</td>\n",
       "      <td>INV</td>\n",
       "      <td>724.446510</td>\n",
       "      <td>USD</td>\n",
       "      <td>2021-09-12</td>\n",
       "      <td>0000001258-9300903-1-GUT</td>\n",
       "    </tr>\n",
       "    <tr>\n",
       "      <th>1</th>\n",
       "      <td>GHD</td>\n",
       "      <td>Viaty Lia</td>\n",
       "      <td>SSM31</td>\n",
       "      <td>15-JUL-21</td>\n",
       "      <td>INV</td>\n",
       "      <td>4774.667159</td>\n",
       "      <td>HKD</td>\n",
       "      <td>2021-08-14</td>\n",
       "      <td>0000001352-ERS05019HK-GHD</td>\n",
       "    </tr>\n",
       "    <tr>\n",
       "      <th>2</th>\n",
       "      <td>GUT</td>\n",
       "      <td>George Csakravay</td>\n",
       "      <td>SSM62</td>\n",
       "      <td>13-AUG-21</td>\n",
       "      <td>INV</td>\n",
       "      <td>7541.946932</td>\n",
       "      <td>USD</td>\n",
       "      <td>2021-09-27</td>\n",
       "      <td>0000001508-9300749-10-GUT</td>\n",
       "    </tr>\n",
       "    <tr>\n",
       "      <th>3</th>\n",
       "      <td>GUT</td>\n",
       "      <td>George Csakravay</td>\n",
       "      <td>SSM62</td>\n",
       "      <td>13-AUG-21</td>\n",
       "      <td>INV</td>\n",
       "      <td>26937.147202</td>\n",
       "      <td>USD</td>\n",
       "      <td>2021-09-27</td>\n",
       "      <td>0000001508-9300749-11-GUT</td>\n",
       "    </tr>\n",
       "    <tr>\n",
       "      <th>4</th>\n",
       "      <td>GUT</td>\n",
       "      <td>George Csakravay</td>\n",
       "      <td>SSM62</td>\n",
       "      <td>13-AUG-21</td>\n",
       "      <td>INV</td>\n",
       "      <td>62010.765589</td>\n",
       "      <td>USD</td>\n",
       "      <td>2021-09-27</td>\n",
       "      <td>0000001508-9300749-14-GUT</td>\n",
       "    </tr>\n",
       "  </tbody>\n",
       "</table>\n",
       "</div>"
      ],
      "text/plain": [
       "  Entity Credit Controller     Mc Invoice Date Invoice Type      Euro SUM  \\\n",
       "0    GUT       Ritgi Dabey  SSM62    13-AUG-21          INV    724.446510   \n",
       "1    GHD         Viaty Lia  SSM31    15-JUL-21          INV   4774.667159   \n",
       "2    GUT  George Csakravay  SSM62    13-AUG-21          INV   7541.946932   \n",
       "3    GUT  George Csakravay  SSM62    13-AUG-21          INV  26937.147202   \n",
       "4    GUT  George Csakravay  SSM62    13-AUG-21          INV  62010.765589   \n",
       "\n",
       "  Curr   Due Date     Billing Account Number  \n",
       "0  USD 2021-09-12   0000001258-9300903-1-GUT  \n",
       "1  HKD 2021-08-14  0000001352-ERS05019HK-GHD  \n",
       "2  USD 2021-09-27  0000001508-9300749-10-GUT  \n",
       "3  USD 2021-09-27  0000001508-9300749-11-GUT  \n",
       "4  USD 2021-09-27  0000001508-9300749-14-GUT  "
      ]
     },
     "execution_count": 31,
     "metadata": {},
     "output_type": "execute_result"
    }
   ],
   "source": [
    "euma.head(5)"
   ]
  },
  {
   "cell_type": "code",
   "execution_count": 32,
   "id": "2109e01f",
   "metadata": {},
   "outputs": [
    {
     "data": {
      "text/plain": [
       "Index(['Entity', 'Credit Controller', 'Mc', 'Invoice Date', 'Invoice Type',\n",
       "       ' Euro SUM', 'Curr', 'Due Date', 'Billing Account Number'],\n",
       "      dtype='object')"
      ]
     },
     "execution_count": 32,
     "metadata": {},
     "output_type": "execute_result"
    }
   ],
   "source": [
    "euma.columns"
   ]
  },
  {
   "cell_type": "code",
   "execution_count": 33,
   "id": "acdc5a2e",
   "metadata": {},
   "outputs": [
    {
     "data": {
      "text/plain": [
       "array(['Ritgi Dabey', 'Viaty Lia', 'George Csakravay', 'Giacomo Gigante',\n",
       "       'Max Koziola', 'Shwatha Ravain', 'Ul Hinder', 'Same Jebasa',\n",
       "       'Leama Rosemar', 'Ils Pandurangana'], dtype=object)"
      ]
     },
     "execution_count": 33,
     "metadata": {},
     "output_type": "execute_result"
    }
   ],
   "source": [
    "euma['Credit Controller'].unique()[:10]"
   ]
  },
  {
   "cell_type": "code",
   "execution_count": 34,
   "id": "869dc341",
   "metadata": {},
   "outputs": [],
   "source": [
    "# Remove rows where Credit Controller is \"Max Koziola\"\n",
    "euma=euma[euma['Credit Controller']!='Max Koziola']"
   ]
  },
  {
   "cell_type": "code",
   "execution_count": 35,
   "id": "69ffc66d",
   "metadata": {},
   "outputs": [
    {
     "data": {
      "text/html": [
       "<div>\n",
       "<style scoped>\n",
       "    .dataframe tbody tr th:only-of-type {\n",
       "        vertical-align: middle;\n",
       "    }\n",
       "\n",
       "    .dataframe tbody tr th {\n",
       "        vertical-align: top;\n",
       "    }\n",
       "\n",
       "    .dataframe thead th {\n",
       "        text-align: right;\n",
       "    }\n",
       "</style>\n",
       "<table border=\"1\" class=\"dataframe\">\n",
       "  <thead>\n",
       "    <tr style=\"text-align: right;\">\n",
       "      <th></th>\n",
       "      <th>Entity</th>\n",
       "      <th>Credit Controller</th>\n",
       "      <th>Mc</th>\n",
       "      <th>Invoice Date</th>\n",
       "      <th>Invoice Type</th>\n",
       "      <th>Euro SUM</th>\n",
       "      <th>Curr</th>\n",
       "      <th>Due Date</th>\n",
       "      <th>Billing Account Number</th>\n",
       "      <th>BAN</th>\n",
       "    </tr>\n",
       "  </thead>\n",
       "  <tbody>\n",
       "    <tr>\n",
       "      <th>0</th>\n",
       "      <td>GUT</td>\n",
       "      <td>Ritgi Dabey</td>\n",
       "      <td>SSM62</td>\n",
       "      <td>13-AUG-21</td>\n",
       "      <td>INV</td>\n",
       "      <td>724.446510</td>\n",
       "      <td>USD</td>\n",
       "      <td>2021-09-12</td>\n",
       "      <td>0000001258-9300903-1-GUT</td>\n",
       "      <td>9300903-1</td>\n",
       "    </tr>\n",
       "    <tr>\n",
       "      <th>1</th>\n",
       "      <td>GHD</td>\n",
       "      <td>Viaty Lia</td>\n",
       "      <td>SSM31</td>\n",
       "      <td>15-JUL-21</td>\n",
       "      <td>INV</td>\n",
       "      <td>4774.667159</td>\n",
       "      <td>HKD</td>\n",
       "      <td>2021-08-14</td>\n",
       "      <td>0000001352-ERS05019HK-GHD</td>\n",
       "      <td>ERS05019HK</td>\n",
       "    </tr>\n",
       "    <tr>\n",
       "      <th>2</th>\n",
       "      <td>GUT</td>\n",
       "      <td>George Csakravay</td>\n",
       "      <td>SSM62</td>\n",
       "      <td>13-AUG-21</td>\n",
       "      <td>INV</td>\n",
       "      <td>7541.946932</td>\n",
       "      <td>USD</td>\n",
       "      <td>2021-09-27</td>\n",
       "      <td>0000001508-9300749-10-GUT</td>\n",
       "      <td>9300749-10</td>\n",
       "    </tr>\n",
       "  </tbody>\n",
       "</table>\n",
       "</div>"
      ],
      "text/plain": [
       "  Entity Credit Controller     Mc Invoice Date Invoice Type     Euro SUM Curr  \\\n",
       "0    GUT       Ritgi Dabey  SSM62    13-AUG-21          INV   724.446510  USD   \n",
       "1    GHD         Viaty Lia  SSM31    15-JUL-21          INV  4774.667159  HKD   \n",
       "2    GUT  George Csakravay  SSM62    13-AUG-21          INV  7541.946932  USD   \n",
       "\n",
       "    Due Date     Billing Account Number         BAN  \n",
       "0 2021-09-12   0000001258-9300903-1-GUT   9300903-1  \n",
       "1 2021-08-14  0000001352-ERS05019HK-GHD  ERS05019HK  \n",
       "2 2021-09-27  0000001508-9300749-10-GUT  9300749-10  "
      ]
     },
     "execution_count": 35,
     "metadata": {},
     "output_type": "execute_result"
    }
   ],
   "source": [
    "# Add column 'BAN' as an extraction from column 'Billing Account Number'\n",
    "def extract_ban(composed_ban):\n",
    "    len_ban = len(composed_ban)-15\n",
    "    ban = composed_ban[11 : 11+len_ban]\n",
    "    return ban\n",
    "\n",
    "euma['BAN'] = list(map(extract_ban, euma['Billing Account Number']))\n",
    "euma.head(3)   "
   ]
  },
  {
   "cell_type": "markdown",
   "id": "3e5f9e19",
   "metadata": {},
   "source": [
    "## Import second file containing a column to merge"
   ]
  },
  {
   "cell_type": "code",
   "execution_count": 36,
   "id": "ec5ad018",
   "metadata": {},
   "outputs": [],
   "source": [
    "# Import GLCODEs\n",
    "gldata = pd.read_excel('.\\TABLE_IMS_FINANCE_PARTNERS 12082021.xlsx')"
   ]
  },
  {
   "cell_type": "code",
   "execution_count": 37,
   "id": "4463232c",
   "metadata": {},
   "outputs": [
    {
     "data": {
      "text/html": [
       "<div>\n",
       "<style scoped>\n",
       "    .dataframe tbody tr th:only-of-type {\n",
       "        vertical-align: middle;\n",
       "    }\n",
       "\n",
       "    .dataframe tbody tr th {\n",
       "        vertical-align: top;\n",
       "    }\n",
       "\n",
       "    .dataframe thead th {\n",
       "        text-align: right;\n",
       "    }\n",
       "</style>\n",
       "<table border=\"1\" class=\"dataframe\">\n",
       "  <thead>\n",
       "    <tr style=\"text-align: right;\">\n",
       "      <th></th>\n",
       "      <th>Unnamed: 0</th>\n",
       "      <th>DEFAULT (customer number must be empty)</th>\n",
       "      <th>Unnamed: 2</th>\n",
       "      <th>0</th>\n",
       "      <th>Other customers</th>\n",
       "      <th>114180</th>\n",
       "      <th>Unnamed: 6</th>\n",
       "    </tr>\n",
       "  </thead>\n",
       "  <tbody>\n",
       "    <tr>\n",
       "      <th>0</th>\n",
       "      <td>*</td>\n",
       "      <td>DEFAULT (customer number must be empty)</td>\n",
       "      <td>NaN</td>\n",
       "      <td>0</td>\n",
       "      <td>Other customers</td>\n",
       "      <td>114180</td>\n",
       "      <td>NaN</td>\n",
       "    </tr>\n",
       "    <tr>\n",
       "      <th>1</th>\n",
       "      <td>MUUS01</td>\n",
       "      <td>NaN</td>\n",
       "      <td>36869.0</td>\n",
       "      <td>ESI</td>\n",
       "      <td>SITA</td>\n",
       "      <td>214315</td>\n",
       "      <td>GUT</td>\n",
       "    </tr>\n",
       "    <tr>\n",
       "      <th>2</th>\n",
       "      <td>MUUS02</td>\n",
       "      <td>NaN</td>\n",
       "      <td>36869.0</td>\n",
       "      <td>ESI</td>\n",
       "      <td>SITA</td>\n",
       "      <td>214315</td>\n",
       "      <td>GUT</td>\n",
       "    </tr>\n",
       "    <tr>\n",
       "      <th>3</th>\n",
       "      <td>MUUS03</td>\n",
       "      <td>NaN</td>\n",
       "      <td>36869.0</td>\n",
       "      <td>ESI</td>\n",
       "      <td>SITA</td>\n",
       "      <td>214315</td>\n",
       "      <td>GUT</td>\n",
       "    </tr>\n",
       "    <tr>\n",
       "      <th>4</th>\n",
       "      <td>MUUS04</td>\n",
       "      <td>NaN</td>\n",
       "      <td>36869.0</td>\n",
       "      <td>ESI</td>\n",
       "      <td>SITA</td>\n",
       "      <td>214315</td>\n",
       "      <td>GUT</td>\n",
       "    </tr>\n",
       "  </tbody>\n",
       "</table>\n",
       "</div>"
      ],
      "text/plain": [
       "  Unnamed: 0  DEFAULT (customer number must be empty)  Unnamed: 2    0  \\\n",
       "0          *  DEFAULT (customer number must be empty)         NaN    0   \n",
       "1     MUUS01                                      NaN     36869.0  ESI   \n",
       "2     MUUS02                                      NaN     36869.0  ESI   \n",
       "3     MUUS03                                      NaN     36869.0  ESI   \n",
       "4     MUUS04                                      NaN     36869.0  ESI   \n",
       "\n",
       "   Other customers  114180 Unnamed: 6  \n",
       "0  Other customers  114180        NaN  \n",
       "1             SITA  214315        GUT  \n",
       "2             SITA  214315        GUT  \n",
       "3             SITA  214315        GUT  \n",
       "4             SITA  214315        GUT  "
      ]
     },
     "execution_count": 37,
     "metadata": {},
     "output_type": "execute_result"
    }
   ],
   "source": [
    "gldata.head()"
   ]
  },
  {
   "cell_type": "code",
   "execution_count": 38,
   "id": "b19a75d7",
   "metadata": {},
   "outputs": [],
   "source": [
    "# I need only columns 'Unnamed: 0' and 114180. First row on top unnecessary\n",
    "gldata=gldata.drop(0, axis=0).rename(columns={'Unnamed: 0':'BAN',114180:'GL_CODE'})[['BAN', 'GL_CODE']]"
   ]
  },
  {
   "cell_type": "code",
   "execution_count": 39,
   "id": "d3252a56",
   "metadata": {},
   "outputs": [
    {
     "data": {
      "text/html": [
       "<div>\n",
       "<style scoped>\n",
       "    .dataframe tbody tr th:only-of-type {\n",
       "        vertical-align: middle;\n",
       "    }\n",
       "\n",
       "    .dataframe tbody tr th {\n",
       "        vertical-align: top;\n",
       "    }\n",
       "\n",
       "    .dataframe thead th {\n",
       "        text-align: right;\n",
       "    }\n",
       "</style>\n",
       "<table border=\"1\" class=\"dataframe\">\n",
       "  <thead>\n",
       "    <tr style=\"text-align: right;\">\n",
       "      <th></th>\n",
       "      <th>BAN</th>\n",
       "      <th>GL_CODE</th>\n",
       "    </tr>\n",
       "  </thead>\n",
       "  <tbody>\n",
       "    <tr>\n",
       "      <th>1</th>\n",
       "      <td>MUUS01</td>\n",
       "      <td>214315</td>\n",
       "    </tr>\n",
       "    <tr>\n",
       "      <th>2</th>\n",
       "      <td>MUUS02</td>\n",
       "      <td>214315</td>\n",
       "    </tr>\n",
       "    <tr>\n",
       "      <th>3</th>\n",
       "      <td>MUUS03</td>\n",
       "      <td>214315</td>\n",
       "    </tr>\n",
       "  </tbody>\n",
       "</table>\n",
       "</div>"
      ],
      "text/plain": [
       "      BAN  GL_CODE\n",
       "1  MUUS01   214315\n",
       "2  MUUS02   214315\n",
       "3  MUUS03   214315"
      ]
     },
     "execution_count": 39,
     "metadata": {},
     "output_type": "execute_result"
    }
   ],
   "source": [
    "gldata.head(3)"
   ]
  },
  {
   "cell_type": "code",
   "execution_count": 40,
   "id": "1059079a",
   "metadata": {},
   "outputs": [],
   "source": [
    "# Get rid of 'na' BANs (not providing any info)\n",
    "gldata=gldata[gldata['BAN'].notna()]"
   ]
  },
  {
   "cell_type": "code",
   "execution_count": 41,
   "id": "47bb48ea",
   "metadata": {},
   "outputs": [
    {
     "data": {
      "text/plain": [
       "BAN        0\n",
       "GL_CODE    0\n",
       "dtype: int64"
      ]
     },
     "execution_count": 41,
     "metadata": {},
     "output_type": "execute_result"
    }
   ],
   "source": [
    "# check if there are some other missing values\n",
    "gldata.isna().sum()"
   ]
  },
  {
   "cell_type": "code",
   "execution_count": 42,
   "id": "b6621dc6",
   "metadata": {},
   "outputs": [
    {
     "data": {
      "text/plain": [
       "BAN        object\n",
       "GL_CODE     int64\n",
       "dtype: object"
      ]
     },
     "execution_count": 42,
     "metadata": {},
     "output_type": "execute_result"
    }
   ],
   "source": [
    "gldata.dtypes"
   ]
  },
  {
   "cell_type": "code",
   "execution_count": 43,
   "id": "64b7ffbf",
   "metadata": {},
   "outputs": [
    {
     "data": {
      "text/plain": [
       "BAN        object\n",
       "GL_CODE    object\n",
       "dtype: object"
      ]
     },
     "execution_count": 43,
     "metadata": {},
     "output_type": "execute_result"
    }
   ],
   "source": [
    "# I want column GL_CODE to be type string\n",
    "gldata['GL_CODE']=gldata['GL_CODE'].astype(str)\n",
    "gldata.dtypes"
   ]
  },
  {
   "cell_type": "markdown",
   "id": "116e9bda",
   "metadata": {},
   "source": [
    "## Join the datasets"
   ]
  },
  {
   "cell_type": "code",
   "execution_count": 44,
   "id": "7f34e3ed",
   "metadata": {},
   "outputs": [],
   "source": [
    "df = pd.merge(euma, gldata, how='left', on='BAN')"
   ]
  },
  {
   "cell_type": "code",
   "execution_count": 45,
   "id": "750b74e5",
   "metadata": {},
   "outputs": [
    {
     "data": {
      "text/html": [
       "<div>\n",
       "<style scoped>\n",
       "    .dataframe tbody tr th:only-of-type {\n",
       "        vertical-align: middle;\n",
       "    }\n",
       "\n",
       "    .dataframe tbody tr th {\n",
       "        vertical-align: top;\n",
       "    }\n",
       "\n",
       "    .dataframe thead th {\n",
       "        text-align: right;\n",
       "    }\n",
       "</style>\n",
       "<table border=\"1\" class=\"dataframe\">\n",
       "  <thead>\n",
       "    <tr style=\"text-align: right;\">\n",
       "      <th></th>\n",
       "      <th>Entity</th>\n",
       "      <th>Credit Controller</th>\n",
       "      <th>Mc</th>\n",
       "      <th>Invoice Date</th>\n",
       "      <th>Invoice Type</th>\n",
       "      <th>Euro SUM</th>\n",
       "      <th>Curr</th>\n",
       "      <th>Due Date</th>\n",
       "      <th>Billing Account Number</th>\n",
       "      <th>BAN</th>\n",
       "      <th>GL_CODE</th>\n",
       "    </tr>\n",
       "  </thead>\n",
       "  <tbody>\n",
       "    <tr>\n",
       "      <th>0</th>\n",
       "      <td>GUT</td>\n",
       "      <td>Ritgi Dabey</td>\n",
       "      <td>SSM62</td>\n",
       "      <td>13-AUG-21</td>\n",
       "      <td>INV</td>\n",
       "      <td>724.446510</td>\n",
       "      <td>USD</td>\n",
       "      <td>2021-09-12</td>\n",
       "      <td>0000001258-9300903-1-GUT</td>\n",
       "      <td>9300903-1</td>\n",
       "      <td>NaN</td>\n",
       "    </tr>\n",
       "    <tr>\n",
       "      <th>1</th>\n",
       "      <td>GHD</td>\n",
       "      <td>Viaty Lia</td>\n",
       "      <td>SSM31</td>\n",
       "      <td>15-JUL-21</td>\n",
       "      <td>INV</td>\n",
       "      <td>4774.667159</td>\n",
       "      <td>HKD</td>\n",
       "      <td>2021-08-14</td>\n",
       "      <td>0000001352-ERS05019HK-GHD</td>\n",
       "      <td>ERS05019HK</td>\n",
       "      <td>NaN</td>\n",
       "    </tr>\n",
       "    <tr>\n",
       "      <th>2</th>\n",
       "      <td>GUT</td>\n",
       "      <td>George Csakravay</td>\n",
       "      <td>SSM62</td>\n",
       "      <td>13-AUG-21</td>\n",
       "      <td>INV</td>\n",
       "      <td>7541.946932</td>\n",
       "      <td>USD</td>\n",
       "      <td>2021-09-27</td>\n",
       "      <td>0000001508-9300749-10-GUT</td>\n",
       "      <td>9300749-10</td>\n",
       "      <td>NaN</td>\n",
       "    </tr>\n",
       "    <tr>\n",
       "      <th>3</th>\n",
       "      <td>GUT</td>\n",
       "      <td>George Csakravay</td>\n",
       "      <td>SSM62</td>\n",
       "      <td>13-AUG-21</td>\n",
       "      <td>INV</td>\n",
       "      <td>26937.147202</td>\n",
       "      <td>USD</td>\n",
       "      <td>2021-09-27</td>\n",
       "      <td>0000001508-9300749-11-GUT</td>\n",
       "      <td>9300749-11</td>\n",
       "      <td>NaN</td>\n",
       "    </tr>\n",
       "    <tr>\n",
       "      <th>4</th>\n",
       "      <td>GUT</td>\n",
       "      <td>George Csakravay</td>\n",
       "      <td>SSM62</td>\n",
       "      <td>13-AUG-21</td>\n",
       "      <td>INV</td>\n",
       "      <td>62010.765589</td>\n",
       "      <td>USD</td>\n",
       "      <td>2021-09-27</td>\n",
       "      <td>0000001508-9300749-14-GUT</td>\n",
       "      <td>9300749-14</td>\n",
       "      <td>NaN</td>\n",
       "    </tr>\n",
       "  </tbody>\n",
       "</table>\n",
       "</div>"
      ],
      "text/plain": [
       "  Entity Credit Controller     Mc Invoice Date Invoice Type      Euro SUM  \\\n",
       "0    GUT       Ritgi Dabey  SSM62    13-AUG-21          INV    724.446510   \n",
       "1    GHD         Viaty Lia  SSM31    15-JUL-21          INV   4774.667159   \n",
       "2    GUT  George Csakravay  SSM62    13-AUG-21          INV   7541.946932   \n",
       "3    GUT  George Csakravay  SSM62    13-AUG-21          INV  26937.147202   \n",
       "4    GUT  George Csakravay  SSM62    13-AUG-21          INV  62010.765589   \n",
       "\n",
       "  Curr   Due Date     Billing Account Number         BAN GL_CODE  \n",
       "0  USD 2021-09-12   0000001258-9300903-1-GUT   9300903-1     NaN  \n",
       "1  HKD 2021-08-14  0000001352-ERS05019HK-GHD  ERS05019HK     NaN  \n",
       "2  USD 2021-09-27  0000001508-9300749-10-GUT  9300749-10     NaN  \n",
       "3  USD 2021-09-27  0000001508-9300749-11-GUT  9300749-11     NaN  \n",
       "4  USD 2021-09-27  0000001508-9300749-14-GUT  9300749-14     NaN  "
      ]
     },
     "execution_count": 45,
     "metadata": {},
     "output_type": "execute_result"
    }
   ],
   "source": [
    "df.head()"
   ]
  },
  {
   "cell_type": "code",
   "execution_count": 46,
   "id": "c15612ed",
   "metadata": {},
   "outputs": [
    {
     "data": {
      "text/html": [
       "<div>\n",
       "<style scoped>\n",
       "    .dataframe tbody tr th:only-of-type {\n",
       "        vertical-align: middle;\n",
       "    }\n",
       "\n",
       "    .dataframe tbody tr th {\n",
       "        vertical-align: top;\n",
       "    }\n",
       "\n",
       "    .dataframe thead th {\n",
       "        text-align: right;\n",
       "    }\n",
       "</style>\n",
       "<table border=\"1\" class=\"dataframe\">\n",
       "  <thead>\n",
       "    <tr style=\"text-align: right;\">\n",
       "      <th></th>\n",
       "      <th>Entity</th>\n",
       "      <th>Credit Controller</th>\n",
       "      <th>Mc</th>\n",
       "      <th>Invoice Date</th>\n",
       "      <th>Invoice Type</th>\n",
       "      <th>Euro SUM</th>\n",
       "      <th>Curr</th>\n",
       "      <th>Due Date</th>\n",
       "      <th>Billing Account Number</th>\n",
       "      <th>BAN</th>\n",
       "      <th>GL_CODE</th>\n",
       "    </tr>\n",
       "  </thead>\n",
       "  <tbody>\n",
       "    <tr>\n",
       "      <th>0</th>\n",
       "      <td>GCH</td>\n",
       "      <td>Marc Mozolsky</td>\n",
       "      <td>SSX01</td>\n",
       "      <td>16-JUL-21</td>\n",
       "      <td>INV</td>\n",
       "      <td>71629.441640</td>\n",
       "      <td>CLP</td>\n",
       "      <td>2021-08-30</td>\n",
       "      <td>0000010748-GSTA18-GCH</td>\n",
       "      <td>GSTA18</td>\n",
       "      <td>214315</td>\n",
       "    </tr>\n",
       "    <tr>\n",
       "      <th>1</th>\n",
       "      <td>GCH</td>\n",
       "      <td>Marc Mozolsky</td>\n",
       "      <td>SSX01</td>\n",
       "      <td>18-AUG-21</td>\n",
       "      <td>CM</td>\n",
       "      <td>-14561.410706</td>\n",
       "      <td>CLP</td>\n",
       "      <td>2021-08-18</td>\n",
       "      <td>0000010748-GSTA18-GCH</td>\n",
       "      <td>GSTA18</td>\n",
       "      <td>214315</td>\n",
       "    </tr>\n",
       "    <tr>\n",
       "      <th>2</th>\n",
       "      <td>GCH</td>\n",
       "      <td>Marc Mozolsky</td>\n",
       "      <td>SSX01</td>\n",
       "      <td>18-AUG-21</td>\n",
       "      <td>INV</td>\n",
       "      <td>2.503291</td>\n",
       "      <td>CLP</td>\n",
       "      <td>2021-09-30</td>\n",
       "      <td>0000010748-GSTA18-GCH</td>\n",
       "      <td>GSTA18</td>\n",
       "      <td>214315</td>\n",
       "    </tr>\n",
       "    <tr>\n",
       "      <th>3</th>\n",
       "      <td>GCH</td>\n",
       "      <td>Marc Mozolsky</td>\n",
       "      <td>SSX01</td>\n",
       "      <td>18-AUG-21</td>\n",
       "      <td>INV</td>\n",
       "      <td>55062.419920</td>\n",
       "      <td>CLP</td>\n",
       "      <td>2021-09-30</td>\n",
       "      <td>0000010748-GSTA18-GCH</td>\n",
       "      <td>GSTA18</td>\n",
       "      <td>214315</td>\n",
       "    </tr>\n",
       "  </tbody>\n",
       "</table>\n",
       "</div>"
      ],
      "text/plain": [
       "  Entity Credit Controller     Mc Invoice Date Invoice Type      Euro SUM  \\\n",
       "0    GCH     Marc Mozolsky  SSX01    16-JUL-21          INV  71629.441640   \n",
       "1    GCH     Marc Mozolsky  SSX01    18-AUG-21           CM -14561.410706   \n",
       "2    GCH     Marc Mozolsky  SSX01    18-AUG-21          INV      2.503291   \n",
       "3    GCH     Marc Mozolsky  SSX01    18-AUG-21          INV  55062.419920   \n",
       "\n",
       "  Curr   Due Date Billing Account Number     BAN GL_CODE  \n",
       "0  CLP 2021-08-30  0000010748-GSTA18-GCH  GSTA18  214315  \n",
       "1  CLP 2021-08-18  0000010748-GSTA18-GCH  GSTA18  214315  \n",
       "2  CLP 2021-09-30  0000010748-GSTA18-GCH  GSTA18  214315  \n",
       "3  CLP 2021-09-30  0000010748-GSTA18-GCH  GSTA18  214315  "
      ]
     },
     "execution_count": 46,
     "metadata": {},
     "output_type": "execute_result"
    }
   ],
   "source": [
    "# create a new df filtered on 'GL_CODE' not na\n",
    "df_with_codes = df[df['GL_CODE'].notna()].head().reset_index(drop=True)\n",
    "df_with_codes.head(4)"
   ]
  }
 ],
 "metadata": {
  "kernelspec": {
   "display_name": "Python 3",
   "language": "python",
   "name": "python3"
  },
  "language_info": {
   "codemirror_mode": {
    "name": "ipython",
    "version": 3
   },
   "file_extension": ".py",
   "mimetype": "text/x-python",
   "name": "python",
   "nbconvert_exporter": "python",
   "pygments_lexer": "ipython3",
   "version": "3.8.8"
  }
 },
 "nbformat": 4,
 "nbformat_minor": 5
}
